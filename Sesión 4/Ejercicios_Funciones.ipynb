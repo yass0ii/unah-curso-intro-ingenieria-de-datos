{
 "cells": [
  {
   "cell_type": "markdown",
   "metadata": {
    "id": "fX0AMtvVBPLH"
   },
   "source": [
    "## **S4 Ejercicios: funciones**"
   ]
  },
  {
   "cell_type": "markdown",
   "metadata": {
    "id": "-XPvvh1ABTqW"
   },
   "source": [
    "# Ejercicio 1"
   ]
  },
  {
   "cell_type": "markdown",
   "metadata": {
    "id": "qz8hFPu4BXjY"
   },
   "source": [
    "Solicitar al usuario que introduzca su dirección de email. Imprimir un mensaje indicando si la dirección es válida o no, valiéndose de una función para decidirlo. Una dirección se considerará válida si contiene el símbolo \"@\"."
   ]
  },
  {
   "cell_type": "code",
   "execution_count": 10,
   "metadata": {
    "id": "h5fdczVuAxbZ"
   },
   "outputs": [],
   "source": [
    "def validate_email(email:str=\"\") -> bool:\n",
    "    \"\"\"\n",
    "        Función que valida un email\n",
    "        @params {str} email: correo electrónico.\n",
    "        @return {bool}\n",
    "    \"\"\"\n",
    "    # print(\"@\" in email)\n",
    "    if \"@\" in email:\n",
    "        return True\n",
    "    else:\n",
    "        return False"
   ]
  },
  {
   "cell_type": "code",
   "execution_count": 12,
   "metadata": {},
   "outputs": [
    {
     "name": "stdout",
     "output_type": "stream",
     "text": [
      "Introduzca un email: fsefsf\n",
      "False\n",
      "Email inválido\n"
     ]
    }
   ],
   "source": [
    "if __name__ == \"__main__\":\n",
    "    email = input(\"Introduzca un email: \")\n",
    "    print(\"Email válido\" if validate_email(email) else \"Email inválido\")"
   ]
  },
  {
   "cell_type": "markdown",
   "metadata": {
    "id": "_4t579kzBX9q"
   },
   "source": [
    "# Ejercicio 2"
   ]
  },
  {
   "cell_type": "markdown",
   "metadata": {
    "id": "yVTMmHwyBZd3"
   },
   "source": [
    "Solicitar números al usuario hasta que ingrese el cero. Por cada uno, mostrar la suma de sus dígitos (utilizando una función que realice dicha suma)."
   ]
  },
  {
   "cell_type": "code",
   "execution_count": 53,
   "metadata": {
    "id": "RUhRP03VBZky"
   },
   "outputs": [],
   "source": [
    "def pedirdig():\n",
    "   \n",
    "    a = -1\n",
    "    \n",
    "    while a != 0:\n",
    "        a = int(input(f\"Ingrese números, si desea cerrar ingrese 0 \"))\n",
    "        print(sumardig(a))\n",
    "    \n",
    "    "
   ]
  },
  {
   "cell_type": "code",
   "execution_count": 54,
   "metadata": {},
   "outputs": [],
   "source": [
    "def sumardig(num: int) -> int:\n",
    "    suma = 0\n",
    "    \n",
    "    for value in str(num):\n",
    "        suma = suma + int(value)\n",
    "    return suma"
   ]
  },
  {
   "cell_type": "code",
   "execution_count": 56,
   "metadata": {},
   "outputs": [
    {
     "name": "stdout",
     "output_type": "stream",
     "text": [
      "Ingrese números, si desea cerrar ingrese 0 0\n",
      "0\n"
     ]
    }
   ],
   "source": [
    "if __name__ == \"__main__\":\n",
    "    pedirdig()\n"
   ]
  },
  {
   "cell_type": "markdown",
   "metadata": {
    "id": "XDE4-3UUBZxr"
   },
   "source": [
    "# Ejercicio 3"
   ]
  },
  {
   "cell_type": "markdown",
   "metadata": {
    "id": "WvOYBmoVBasH"
   },
   "source": [
    "Escribir un programa que permita al usuario obtener un identificador para cada uno de los socios de un club. Para eso ingresará nombre completo y número de DNI de cada socio, indicando que finalizará el procesamiento mediante el ingreso de un nombre vacío. Precondición: el formato del nombre de los socios será: nombre apellido. Podría ingresar más de un nombre, en cuyo caso será: nombre1 nombre2 apellido. Si un socio tuviera más de un apellido, el usuario sólo ingresará uno. Se debe validar que el número de DNI tenga 7 u 8 dígitos. En caso contrario, el programa debe dejar al usuario en un bucle hasta que ingrese un DNI correcto. Por cada socio se debe imprimir su identificador único, el cual estará formado por: el primer nombre, la cantidad de letras del apellido y los primeros 3 dígitos de su DNI. Ejemplo:\n",
    "\n",
    "Nombre: Alba María Linares\n",
    "\n",
    "DNI: 25834910\n",
    "\n",
    "Alba7258"
   ]
  },
  {
   "cell_type": "code",
   "execution_count": 2,
   "metadata": {},
   "outputs": [],
   "source": [
    "def validarDNI() -> str:\n",
    "    \n",
    "    while True:\n",
    "        dni = (input(f\"ingrese su DNI \"))\n",
    "        \n",
    "        if (len(dni) == 7) or (len(dni) == 8):\n",
    "            break \n",
    "            \n",
    "    return dni"
   ]
  },
  {
   "cell_type": "code",
   "execution_count": 3,
   "metadata": {},
   "outputs": [],
   "source": [
    "def ingresarNombre() -> str:\n",
    "    \n",
    "    ingresoName = \"\"\n",
    "    \n",
    "    while True:\n",
    "        ingresoName = input(\"ingrese su primer y segundo nombre \")\n",
    "        nombre = ingresoName.split(\" \")\n",
    "        if len(nombre) <=3 and len(nombre) >= 2:\n",
    "            break\n",
    "        else:\n",
    "            print(\"Ingrese sus datos en el formato de nombre1 nombre2 apellido\")\n",
    "        \n",
    "\n",
    "    return nombre"
   ]
  },
  {
   "cell_type": "code",
   "execution_count": 167,
   "metadata": {
    "scrolled": true
   },
   "outputs": [
    {
     "name": "stdout",
     "output_type": "stream",
     "text": [
      "ingrese su primer y segundo nombre Yaser David Rife lfe\n",
      "Ingrese sus datos en el formato de nombre1 nombre2 apellido\n",
      "ingrese su primer y segundo nombre Yaser\n",
      "Ingrese sus datos en el formato de nombre1 nombre2 apellido\n",
      "ingrese su primer y segundo nombre Yaser David R\n",
      "ingrese su DNI 123456\n",
      "ingrese su DNI 132546789\n",
      "ingrese su DNI 1234567\n",
      " Su ID del club es Yaser1123\n"
     ]
    }
   ],
   "source": [
    "\n"
   ]
  },
  {
   "cell_type": "code",
   "execution_count": null,
   "metadata": {
    "id": "EGtQSAy-Ba1G"
   },
   "outputs": [],
   "source": [
    "if __name__ == \"__main__\":\n",
    "    \n",
    "    nombre = ingresarNombre()\n",
    "    dni = validarDNI()\n",
    "\n",
    "    print(f\" Su ID del club es {nombre[0]}{len(nombre[-1])}{dni[0:3]}\")"
   ]
  },
  {
   "cell_type": "markdown",
   "metadata": {
    "id": "UjxzkDQPBa7q"
   },
   "source": [
    "# Ejercicio 4"
   ]
  },
  {
   "cell_type": "markdown",
   "metadata": {
    "id": "WIkstjodDjXs"
   },
   "source": [
    "Una inmobiliaria de una ciudad maneja una lista de inmuebles como la siguiente (Una lista donde cada elemento es un diccionario):\n",
    "\n",
    "[{'año': 2000, 'metros': 100, 'habitaciones': 3, 'garaje': True, 'zona': 'A'}, {'año': 2012, 'metros': 60, 'habitaciones': 2, 'garaje': True, 'zona': 'B'}, {'año': 1980, 'metros': 120, 'habitaciones': 4, 'garaje': False, 'zona': 'A'}, {'año': 2005, 'metros': 75, 'habitaciones': 3, 'garaje': True, 'zona': 'B'}, {'año': 2015, 'metros': 90, 'habitaciones': 2, 'garaje': False, 'zona': 'A'}]\n",
    "\n",
    "Construir una función que permita hacer búsqueda de inmuebles en función de un presupuesto dado. La función recibirá como entrada la lista de inmuebles y un precio, y devolverá otra lista con los inmuebles cuyo precio sea menor o igual que el dado. Los inmuebles de la lista que se devuelva deben incorporar un nuevo par a cada diccionario con el precio del inmueble, donde el precio de un inmueble se calcula con las siguiente fórmula en función de la zona:\n",
    "\n",
    "Zona A: precio = (metros x 1000 + habitaciones x 5000 + garaje x 15000) x (1 - antiguedad / 100) \n",
    "Zona B: precio = (metros x 1000 + habitaciones x 5000 + garaje x 15000) x (1 - antiguedad / 100) x 1.5"
   ]
  },
  {
   "cell_type": "code",
   "execution_count": 221,
   "metadata": {},
   "outputs": [],
   "source": [
    "def precioZonaA(listIn: list) -> list:\n",
    "\n",
    "    for value in listIn:\n",
    "        if value['zona'] == 'A':\n",
    "            value['precio'] = round((( value['metros'] * 1000 + value['habitaciones'] * 5000 ) + ( 1 if value['garaje'] else 0 ) * 15000 )* (1 - (value['edadCasa'] / 100 ) ) , 2)\n",
    "    return listIn\n",
    "\n",
    "\n",
    "def precioZonaB(listIn: list) -> list:\n",
    "\n",
    "    for value in listIn:\n",
    "        if value['zona'] == 'B': \n",
    "            value['precio'] = round((1.5 *( ( value['metros'] * 1000 + value['habitaciones'] * 5000 ) + ( 1 if value['garaje'] else 0 ) * 15000 )* (1 - (value['edadCasa'] / 100 ) )) , 2)\n",
    "    return listIn\n",
    "\n",
    "\n",
    "def buscarPre(listIn: list, presupuesto: float) -> list:\n",
    "    \n",
    "    newList = []\n",
    "    \n",
    "    for value in listIn:\n",
    "        if presupuesto >= value['precio']:\n",
    "            newList.append(value)\n",
    "    \n",
    "    return newList\n",
    "    "
   ]
  },
  {
   "cell_type": "code",
   "execution_count": 223,
   "metadata": {
    "id": "FP6tXzOmDj0e"
   },
   "outputs": [
    {
     "name": "stdout",
     "output_type": "stream",
     "text": [
      "¿Cuál es su presupuesto? 98000\n",
      "Sus opciones disponibles son: [{'año': 1980, 'metros': 120, 'habitaciones': 4, 'garaje': False, 'zona': 'A', 'edadCasa': 43, 'precio': 79800.0}, {'año': 2015, 'metros': 90, 'habitaciones': 2, 'garaje': False, 'zona': 'A', 'edadCasa': 8, 'precio': 92000.0}]\n"
     ]
    }
   ],
   "source": [
    "from datetime import datetime\n",
    "\n",
    "if __name__ == \"__main__\":\n",
    "    inmob_list = [\n",
    "        {'año': 2000, 'metros': 100, 'habitaciones': 3, 'garaje': True, 'zona': 'A'},                  \n",
    "        {'año': 2012, 'metros': 60, 'habitaciones': 2, 'garaje': True, 'zona': 'B'}, \n",
    "        {'año': 1980, 'metros': 120, 'habitaciones': 4, 'garaje': False, 'zona': 'A'},  \n",
    "        {'año': 2005, 'metros': 75, 'habitaciones': 3, 'garaje': True, 'zona': 'B'}, \n",
    "        {'año': 2015, 'metros': 90, 'habitaciones': 2, 'garaje': False, 'zona': 'A'}\n",
    "    ]\n",
    "    \n",
    "    now = datetime.now()\n",
    "        \n",
    "    \n",
    "    for value in inmob_list:\n",
    "        value['edadCasa'] = now.year - value['año']\n",
    "       \n",
    "    precioZonaA(inmob_list)\n",
    "    precioZonaB(inmob_list)\n",
    "    \n",
    "#     print(inmob_list)\n",
    "    \n",
    "    presupuesto = int(input(\"¿Cuál es su presupuesto? \"))\n",
    "    \n",
    "    print(f\"Sus opciones disponibles son: {buscarPre(inmob_list, presupuesto)}\")"
   ]
  },
  {
   "cell_type": "code",
   "execution_count": null,
   "metadata": {},
   "outputs": [],
   "source": []
  }
 ],
 "metadata": {
  "colab": {
   "provenance": []
  },
  "kernelspec": {
   "display_name": "Python 3 (ipykernel)",
   "language": "python",
   "name": "python3"
  },
  "language_info": {
   "codemirror_mode": {
    "name": "ipython",
    "version": 3
   },
   "file_extension": ".py",
   "mimetype": "text/x-python",
   "name": "python",
   "nbconvert_exporter": "python",
   "pygments_lexer": "ipython3",
   "version": "3.10.6"
  },
  "vscode": {
   "interpreter": {
    "hash": "31f2aee4e71d21fbe5cf8b01ff0e069b9275f58929596ceb00d14d90e3e16cd6"
   }
  }
 },
 "nbformat": 4,
 "nbformat_minor": 1
}
