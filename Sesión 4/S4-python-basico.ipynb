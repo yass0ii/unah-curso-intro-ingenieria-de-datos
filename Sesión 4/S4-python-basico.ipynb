{
 "cells": [
  {
   "cell_type": "markdown",
   "metadata": {
    "id": "fX0AMtvVBPLH"
   },
   "source": [
    "# **S4: Python básico**"
   ]
  },
  {
   "cell_type": "markdown",
   "metadata": {},
   "source": [
    "---"
   ]
  },
  {
   "cell_type": "markdown",
   "metadata": {},
   "source": [
    "## a) Variables:"
   ]
  },
  {
   "cell_type": "markdown",
   "metadata": {},
   "source": [
    "### 1. Variables numéricas:"
   ]
  },
  {
   "cell_type": "markdown",
   "metadata": {},
   "source": [
    "#### Ejercicio:\n",
    "**Enunciado**:\n",
    "Escribe un programa en Python que solicite al usuario su nombre, edad y peso. El programa debe calcular el índice de masa corporal (IMC) del usuario utilizando la siguiente fórmula: `IMC = peso / (altura^2)`. La altura se considerará constante y se establecerá como 1.75 metros. El programa debe imprimir el nombre del usuario, su edad, peso y el valor calculado del IMC.\n",
    "\n",
    "Pasos a seguir:\n",
    "\n",
    "1. Solicitar al usuario que ingrese su nombre.\n",
    "2. Solicitar al usuario que ingrese su edad.\n",
    "3. Solicitar al usuario que ingrese su peso.\n",
    "4. Calcular el IMC utilizando la fórmula IMC = peso / (altura^2), donde altura = 1.75.\n",
    "5. Imprimir el nombre del usuario, su edad, peso y el valor calculado del IMC."
   ]
  },
  {
   "cell_type": "code",
   "execution_count": 4,
   "metadata": {},
   "outputs": [
    {
     "name": "stdout",
     "output_type": "stream",
     "text": [
      "Favor Ingrese Su Nombre qqdw\n",
      "¿Cuántos años tiene? 41\n",
      "cuánto pesa? 252\n",
      "Hola qqdw, ud tiene 41, con su peso de 252.0, su IMC es de 82\n"
     ]
    }
   ],
   "source": [
    "if __name__ == \"__main__\":\n",
    "    nombre = input(\"Favor Ingrese Su Nombre \")\n",
    "    edad = int(input(\"¿Cuántos años tiene? \"))\n",
    "    w = float(input(\"cuánto pesa? \"))\n",
    "    IMC = w/(1.75**2)\n",
    "    print(f\"Hola {nombre}, ud tiene {edad}, con su peso de {w}, su IMC es de {int(IMC)}\")\n",
    "    "
   ]
  },
  {
   "cell_type": "markdown",
   "metadata": {},
   "source": [
    "<### 2. Variables de texto"
   ]
  },
  {
   "cell_type": "markdown",
   "metadata": {},
   "source": [
    "#### Ejercicio:\n",
    "**Enunciado:**\n",
    "Escribe un programa en Python que solicite al usuario que ingrese una palabra y realice las siguientes operaciones con ella:\n",
    "\n",
    "1. Imprimir la longitud de la palabra ingresada.\n",
    "2. Imprimir la palabra en mayúsculas.\n",
    "3. Imprimir la palabra en minúsculas.\n",
    "4. Imprimir la primera letra de la palabra.\n",
    "5. Imprimir la última letra de la palabra.\n",
    "6. Imprimir la palabra invertida.\n",
    "\n",
    "<br>\n",
    "\n",
    "Pasos a seguir:\n",
    "\n",
    "Solicitar al usuario que ingrese una palabra.\n",
    "- Calcular la longitud de la palabra utilizando la función `len()`.\n",
    "- Convertir la palabra a mayúsculas utilizando el `método upper()`.\n",
    "- Convertir la palabra a minúsculas utilizando el `método lower()`.\n",
    "- Obtener la primera letra de la palabra utilizando el índice `[0]`.\n",
    "- Obtener la última letra de la palabra utilizando el índice `[-1]`."
   ]
  },
  {
   "cell_type": "code",
   "execution_count": 13,
   "metadata": {},
   "outputs": [
    {
     "name": "stdout",
     "output_type": "stream",
     "text": [
      "favor ingrese una palabra Paramétrico\n",
      "11\n",
      "PARAMÉTRICO\n",
      "paramétrico\n",
      "P\n",
      "o\n"
     ]
    }
   ],
   "source": [
    "if __name__ == \"__main__\":\n",
    "    palabra = input(\"favor ingrese una palabra \")\n",
    "    print(len(palabra))\n",
    "    print(palabra.upper() )\n",
    "    print(palabra.lower() )\n",
    "    print(palabra[0] )\n",
    "    print(palabra[-1] )\n",
    "    \n",
    "    "
   ]
  },
  {
   "cell_type": "markdown",
   "metadata": {},
   "source": [
    "### 3. Variables booleanas"
   ]
  },
  {
   "cell_type": "markdown",
   "metadata": {},
   "source": [
    "#### Ejercicio:\n",
    "**Enunciado:**\n",
    "Escribe un programa en Python que solicite al usuario dos números enteros. El programa debe verificar si el primer número es mayor que el segundo número e imprimir un mensaje indicando si la afirmación es verdadera o falsa.\n",
    "\n",
    "<br>\n",
    "\n",
    "Pasos a seguir:\n",
    "\n",
    "1. Solicitar al usuario que ingrese el primer número y almacenarlo en una variable.\n",
    "2. Solicitar al usuario que ingrese el segundo número y almacenarlo en otra variable.\n",
    "3. Utilizar una estructura de control (if-else) para comparar los dos números y determinar si el primer número es mayor que el segundo.\n",
    "4. Crear una variable booleana para almacenar el resultado de la comparación.\n",
    "5. Imprimir un mensaje indicando si la afirmación \"El primer número es mayor que el segundo número\" es verdadera o falsa, utilizando la variable booleana."
   ]
  },
  {
   "cell_type": "code",
   "execution_count": 1,
   "metadata": {
    "scrolled": true
   },
   "outputs": [
    {
     "name": "stdout",
     "output_type": "stream",
     "text": [
      "Ingrese un número entero 5\n",
      "Ingrese otro número entero 89\n",
      "False\n",
      "Entonces, 5 es menor que 89\n"
     ]
    }
   ],
   "source": [
    "if __name__ == \"__main__\":\n",
    "    a = int(input(\"Ingrese un número entero \") )\n",
    "    b = int(input(\"Ingrese otro número entero \") )\n",
    "\n",
    "    c = a > b\n",
    "    \n",
    "    print(c)\n",
    "    \n",
    "    if c:\n",
    "        print(f\"Entonces, {a} es mayor que {b}\")\n",
    "    else:\n",
    "        print(f\"Entonces, {a} es menor que {b}\")\n",
    "        "
   ]
  },
  {
   "cell_type": "markdown",
   "metadata": {},
   "source": [
    "---"
   ]
  },
  {
   "cell_type": "markdown",
   "metadata": {},
   "source": [
    "## b) Sentencias de control:"
   ]
  },
  {
   "cell_type": "markdown",
   "metadata": {},
   "source": [
    "### Ejercicio:\n",
    "**Enunciado:**\n",
    "Escribe un programa en Python que solicite al usuario su edad y determine si es mayor de edad o no. Si es mayor de edad, el programa debe imprimir \"Eres mayor de edad\". En caso contrario, debe imprimir \"Eres menor de edad\".\n",
    "<br>\n",
    "\n",
    "Pasos a seguir:\n",
    "\n",
    "1. Solicitar al usuario que ingrese su edad y almacenarla en una variable.\n",
    "2. Utilizar una sentencia de control, como una estructura condicional `if-else`, para verificar si la edad es mayor o igual a 18.\n",
    "3. Si la edad es mayor o igual a 18, imprimir *Eres mayor de edad*.\n",
    "4. En caso contrario, imprimir *Eres menor de edad*."
   ]
  },
  {
   "cell_type": "code",
   "execution_count": 3,
   "metadata": {},
   "outputs": [],
   "source": [
    "def run(nombre:str, edad:int) -> str:\n",
    "    \"\"\"\n",
    "        Función main del programa\n",
    "    \"\"\"\n",
    "    if edad >= 18:\n",
    "        return f\"{nombre}? al menos mayor de edad el pendejo \"\n",
    "    else:\n",
    "        return f\"{nombre}? Menor y bolo, ya te llevó pts \""
   ]
  },
  {
   "cell_type": "code",
   "execution_count": 4,
   "metadata": {},
   "outputs": [
    {
     "name": "stdout",
     "output_type": "stream",
     "text": [
      "¿Cómo puctas te llamás? OLIVE\n",
      "¿Cuántos años tenés bolo hpta? 45\n",
      "OLIVE? al menos mayor de edad el pendejo \n"
     ]
    }
   ],
   "source": [
    "if __name__ == \"__main__\":\n",
    "    nombre = input(\"¿Cómo puctas te llamás? \")\n",
    "    edad = int(input(\"¿Cuántos años tenés bolo hpta? \"))\n",
    "    retornada = run(nombre, edad)\n",
    "    \n",
    "    print(retornada)"
   ]
  },
  {
   "cell_type": "markdown",
   "metadata": {},
   "source": [
    "---"
   ]
  },
  {
   "cell_type": "markdown",
   "metadata": {},
   "source": [
    "## c) Loops"
   ]
  },
  {
   "cell_type": "markdown",
   "metadata": {},
   "source": [
    "### Ejercicio:\n",
    "**Enunciado:**\n",
    "Escribe un programa en Python que solicite al usuario un número entero positivo y muestre en pantalla todos los números pares desde 0 hasta ese número utilizando un bucle while.\n",
    "<br>\n",
    "\n",
    "Pasos a seguir:\n",
    "\n",
    "1. Solicitar al usuario que ingrese un número entero positivo y almacenarlo en una variable.\n",
    "2. Verificar si el número ingresado es positivo. Si no lo es, solicitar nuevamente al usuario que ingrese un número hasta que se cumpla esta condición.\n",
    "3. Inicializar una variable en 0 para representar el contador.\n",
    "4. Utilizar un bucle `while` para iterar desde 0 hasta el número ingresado.\n",
    "5. En cada iteración, verificar si el número actual es par utilizando la operación de módulo (%). Si es par, imprimirlo en pantalla.\n",
    "6. Incrementar el contador en cada iteración.\n",
    "7. Continuar con el bucle hasta que se alcance el número ingresado."
   ]
  },
  {
   "cell_type": "code",
   "execution_count": 5,
   "metadata": {},
   "outputs": [],
   "source": [
    "def validar_numero() -> int:\n",
    "    \"\"\"\n",
    "        Función main del programa\n",
    "    \"\"\"\n",
    "    numero = -1\n",
    "\n",
    "    while numero < 0:\n",
    "        numero = int(input(f\"Ingrese un número positivo \"))\n",
    "    return numero\n",
    "\n",
    "def print_pares(numero:int) -> None:\n",
    "    \"\"\"\n",
    "        Imprime valores pares\n",
    "    \"\"\"\n",
    "    contador = 0\n",
    "    \n",
    "    while contador < numero:\n",
    "        \n",
    "        if contador % 2 == 0:\n",
    "            print(f\"El numero {contador} es par\")\n",
    "        contador = contador + 1"
   ]
  },
  {
   "cell_type": "code",
   "execution_count": 7,
   "metadata": {},
   "outputs": [
    {
     "name": "stdout",
     "output_type": "stream",
     "text": [
      "Ingrese un número positivo -10\n",
      "Ingrese un número positivo 10\n",
      "El numero 0 es par\n",
      "El numero 2 es par\n",
      "El numero 4 es par\n",
      "El numero 6 es par\n",
      "El numero 8 es par\n"
     ]
    }
   ],
   "source": [
    "if __name__ == \"__main__\":\n",
    "    \n",
    "    x = validar_numero()\n",
    "    print_pares(x)\n",
    "    \n",
    "        \n",
    "        "
   ]
  },
  {
   "cell_type": "markdown",
   "metadata": {},
   "source": [
    "---"
   ]
  },
  {
   "cell_type": "markdown",
   "metadata": {},
   "source": [
    "## d) Listas:"
   ]
  },
  {
   "cell_type": "markdown",
   "metadata": {},
   "source": [
    "### Ejercicio:\n",
    "**Enunciado:**\n",
    "Escribe un programa en Python que solicite al usuario una lista de números enteros y luego realice las siguientes operaciones:\n",
    "\n",
    "1. Imprimir la lista ingresada por el usuario.\n",
    "2. Calcular la suma de todos los números de la lista.\n",
    "3. Calcular el promedio de los números de la lista.\n",
    "4. Encontrar el número máximo y mínimo de la lista.\n",
    "5. Crear una nueva lista con los números pares de la lista original.\n",
    "6. Imprimir la nueva lista de números pares.\n",
    "<br>\n",
    "\n",
    "Pasos a seguir:\n",
    "\n",
    "1. Solicitar al usuario que ingrese una lista de números enteros, separados por espacios, y almacenarlos en una variable.\n",
    "2. Utilizar la función split() para dividir la cadena de entrada en una lista de números.\n",
    "3. Utilizar un bucle for para recorrer la lista e imprimir los números uno por uno.\n",
    "4. Utilizar la función sum() para calcular la suma de todos los números de la lista.\n",
    "5. Calcular el promedio dividiendo la suma por la longitud de la lista.\n",
    "6. Utilizar las funciones max() y min() para encontrar el número máximo y mínimo de la lista.\n",
    "7. Utilizar un bucle for para recorrer la lista y agregar los números pares a una nueva lista.\n",
    "8. Imprimir la nueva lista de números pares."
   ]
  },
  {
   "cell_type": "code",
   "execution_count": 3,
   "metadata": {},
   "outputs": [],
   "source": [
    "def isEven(numbers:list) -> list: \n",
    "    \"\"\"\n",
    "        Cálcula los números pares de una lista\n",
    "    \"\"\"\n",
    "    numpares = []\n",
    "    \n",
    "    for value in numbers:\n",
    "        if value % 2 == 0:\n",
    "            numpares.append(value)\n",
    "    \n",
    "    return numpares\n",
    "\n",
    "\n",
    "def minNumber(numbers:list) -> int: \n",
    "    \"\"\"\n",
    "        Cálcula el valor máximo dentro de una lista de números\n",
    "    \"\"\"\n",
    "    return min(numbers)\n",
    "\n",
    "\n",
    "def maxNumber(numbers:list) -> int: \n",
    "    \"\"\"\n",
    "        Cálcula el valor máximo dentro de una lista de números\n",
    "    \"\"\"\n",
    "    return max(numbers)\n",
    "    \n",
    "\n",
    "def average(numbers:list) -> float:\n",
    "    \"\"\"\n",
    "        Cálcula el promedio a partir de una lista de números\n",
    "    \"\"\"\n",
    "    return round(sum(numbers) / len(numbers), 3)\n",
    "\n",
    "\n",
    "def summation(numbers:list) -> int:\n",
    "    \"\"\"\n",
    "        Sumatoria de todos los números contenidos en una lista\n",
    "    \"\"\"\n",
    "    return sum(numbers)\n",
    "\n",
    "\n",
    "def processNumbers(numbers:list) -> list:\n",
    "    \"\"\"\n",
    "        Procesa y limpia una lista de números, hace la conversión a enteros para cafa uno de los números contenido en la lista\n",
    "    \"\"\"\n",
    "    dataList = numbers.split(\" \")\n",
    "    \n",
    "    dataListInt = []\n",
    "    \n",
    "    for value in dataList:\n",
    "        dataListInt.append(int(value))\n",
    "    \n",
    "    return dataListInt\n",
    "  \n",
    "    \n",
    "\n",
    "def run(lista:list):\n",
    "    \"\"\"\n",
    "        Función main del programa\n",
    "    \"\"\"\n",
    "    print(lista)\n",
    "    \n",
    "    print(summation(lista))\n",
    "    \n",
    "    print(average(lista))\n",
    "    \n",
    "    print(f\"min: {minNumber(lista)}, max: {maxNumber(lista)}\")\n",
    "    \n",
    "    print(isEven(lista))"
   ]
  },
  {
   "cell_type": "code",
   "execution_count": 7,
   "metadata": {
    "scrolled": true
   },
   "outputs": [
    {
     "name": "stdout",
     "output_type": "stream",
     "text": [
      "Ingrese una lista de numeros separados por espacio 151 52 48\n",
      "[151, 52, 48]\n",
      "251\n",
      "83.667\n",
      "min: 48, max: 151\n",
      "[52, 48]\n"
     ]
    }
   ],
   "source": [
    "if __name__ == \"__main__\":\n",
    "     \n",
    "    data = input(\"Ingrese una lista de numeros separados por espacio \")\n",
    "    \n",
    "    lista = processNumbers(data)\n",
    "    \n",
    "    run(lista)"
   ]
  },
  {
   "cell_type": "markdown",
   "metadata": {},
   "source": [
    "---"
   ]
  },
  {
   "cell_type": "markdown",
   "metadata": {
    "id": "-XPvvh1ABTqW"
   },
   "source": [
    "## f) Repaso:"
   ]
  },
  {
   "cell_type": "markdown",
   "metadata": {
    "id": "qz8hFPu4BXjY"
   },
   "source": [
    "**Problmea**\n",
    "Considere una lista (list = []) Puede ejecutar los siguientes comandos:\n",
    "1. `insert i e`: inserte el entero e en la posición i.\n",
    "2. `print`: Imprime la lista.\n",
    "3. `remove e`: Elimina la primera ocurrencia del entero e.\n",
    "4. `append e`: inserta el número entero e al final de la lista.\n",
    "5. `sort`: ordenar la lista.\n",
    "6. `pop`: Pop elimina el último elemento de la lista\n",
    "7. `reverse`: invertir la lista.\n",
    "\n",
    "Inicialice su lista y lea el valor de `n` seguido de `n` líneas de comandos donde cada comando será de los 7 tipos enumerados anteriormente. Repita cada comando en orden y realice la operación correspondiente en su lista.\n",
    "\n",
    "**Ejemplo**\n",
    "- N=4\n",
    "- `append 1`\n",
    "- `append 2`\n",
    "- `insert 3 1`\n",
    "- `print`\n",
    "- `append 1`: agregar 1 a la lista, arr = [1]\n",
    "- `append 2`: agregar 2 a la lista, arr = [1, 2]\n",
    "- `insert 3 1`: Insertar 3 en el índice 1, arr = [1, 3, 2]\n",
    "- `print`: Imprime la matriz.\n",
    "\n",
    "\n",
    "**Salida:**  \n",
    "```python\n",
    "[1, 3, 2]\n",
    "```\n",
    "\n",
    "**Formato de entrada**  \n",
    "La primera línea contiene un número entero, n, que indica el número de comandos. Cada línea i de las n líneas subsiguientes contiene uno de los comandos descritos anteriormente.\n",
    "\n",
    "**Restricciones**  \n",
    "- Los elementos agregados a la lista deben ser números enteros.\n",
    "\n",
    "**Formato de salida**  \n",
    "Para cada comando de tipo print. imprimir la lista en una nueva línea.\n",
    "\n",
    "**Entrada de muestra 0**  \n",
    "```\n",
    "12\n",
    "insert 0 5\n",
    "insert 1 10\n",
    "insert 0 6\n",
    "print\n",
    "remove 6\n",
    "append 9\n",
    "append 1\n",
    "sort\n",
    "print\n",
    "pop\n",
    "reverse\n",
    "print\n",
    "```\n",
    "\n",
    "**Ejemplo de salida 0**  \n",
    "```python\n",
    "[6, 5, 10]\n",
    "[1, 5, 9, 10]\n",
    "[9, 5, 1]\n",
    "```"
   ]
  },
  {
   "cell_type": "code",
   "execution_count": 22,
   "metadata": {},
   "outputs": [
    {
     "name": "stdout",
     "output_type": "stream",
     "text": [
      "Escriba una N para hacer iteraciones 2\n",
      "Ingrese un comando y luego dos valores enteros, ejemplo: insert. insert 1 0\n",
      "insert 1 0\n",
      "['insert', '1', '0']\n"
     ]
    },
    {
     "ename": "KeyboardInterrupt",
     "evalue": "Interrupted by user",
     "output_type": "error",
     "traceback": [
      "\u001b[0;31m---------------------------------------------------------------------------\u001b[0m",
      "\u001b[0;31mKeyboardInterrupt\u001b[0m                         Traceback (most recent call last)",
      "Cell \u001b[0;32mIn[22], line 6\u001b[0m\n\u001b[1;32m      3\u001b[0m listap \u001b[38;5;241m=\u001b[39m []\n\u001b[1;32m      5\u001b[0m \u001b[38;5;28;01mfor\u001b[39;00m x \u001b[38;5;129;01min\u001b[39;00m \u001b[38;5;28mrange\u001b[39m(N):\n\u001b[0;32m----> 6\u001b[0m     entrada \u001b[38;5;241m=\u001b[39m \u001b[38;5;28;43minput\u001b[39;49m\u001b[43m(\u001b[49m\u001b[38;5;124;43m\"\u001b[39;49m\u001b[38;5;124;43mIngrese un comando y luego dos valores enteros, ejemplo: insert. \u001b[39;49m\u001b[38;5;124;43m\"\u001b[39;49m\u001b[43m)\u001b[49m\n\u001b[1;32m      7\u001b[0m     \u001b[38;5;28mprint\u001b[39m(entrada)\n\u001b[1;32m      8\u001b[0m     comando \u001b[38;5;241m=\u001b[39m entrada\u001b[38;5;241m.\u001b[39msplit()\n",
      "File \u001b[0;32m~/document/venv/lib/python3.10/site-packages/ipykernel/kernelbase.py:1191\u001b[0m, in \u001b[0;36mKernel.raw_input\u001b[0;34m(self, prompt)\u001b[0m\n\u001b[1;32m   1189\u001b[0m     msg \u001b[38;5;241m=\u001b[39m \u001b[38;5;124m\"\u001b[39m\u001b[38;5;124mraw_input was called, but this frontend does not support input requests.\u001b[39m\u001b[38;5;124m\"\u001b[39m\n\u001b[1;32m   1190\u001b[0m     \u001b[38;5;28;01mraise\u001b[39;00m StdinNotImplementedError(msg)\n\u001b[0;32m-> 1191\u001b[0m \u001b[38;5;28;01mreturn\u001b[39;00m \u001b[38;5;28;43mself\u001b[39;49m\u001b[38;5;241;43m.\u001b[39;49m\u001b[43m_input_request\u001b[49m\u001b[43m(\u001b[49m\n\u001b[1;32m   1192\u001b[0m \u001b[43m    \u001b[49m\u001b[38;5;28;43mstr\u001b[39;49m\u001b[43m(\u001b[49m\u001b[43mprompt\u001b[49m\u001b[43m)\u001b[49m\u001b[43m,\u001b[49m\n\u001b[1;32m   1193\u001b[0m \u001b[43m    \u001b[49m\u001b[38;5;28;43mself\u001b[39;49m\u001b[38;5;241;43m.\u001b[39;49m\u001b[43m_parent_ident\u001b[49m\u001b[43m[\u001b[49m\u001b[38;5;124;43m\"\u001b[39;49m\u001b[38;5;124;43mshell\u001b[39;49m\u001b[38;5;124;43m\"\u001b[39;49m\u001b[43m]\u001b[49m\u001b[43m,\u001b[49m\n\u001b[1;32m   1194\u001b[0m \u001b[43m    \u001b[49m\u001b[38;5;28;43mself\u001b[39;49m\u001b[38;5;241;43m.\u001b[39;49m\u001b[43mget_parent\u001b[49m\u001b[43m(\u001b[49m\u001b[38;5;124;43m\"\u001b[39;49m\u001b[38;5;124;43mshell\u001b[39;49m\u001b[38;5;124;43m\"\u001b[39;49m\u001b[43m)\u001b[49m\u001b[43m,\u001b[49m\n\u001b[1;32m   1195\u001b[0m \u001b[43m    \u001b[49m\u001b[43mpassword\u001b[49m\u001b[38;5;241;43m=\u001b[39;49m\u001b[38;5;28;43;01mFalse\u001b[39;49;00m\u001b[43m,\u001b[49m\n\u001b[1;32m   1196\u001b[0m \u001b[43m\u001b[49m\u001b[43m)\u001b[49m\n",
      "File \u001b[0;32m~/document/venv/lib/python3.10/site-packages/ipykernel/kernelbase.py:1234\u001b[0m, in \u001b[0;36mKernel._input_request\u001b[0;34m(self, prompt, ident, parent, password)\u001b[0m\n\u001b[1;32m   1231\u001b[0m \u001b[38;5;28;01mexcept\u001b[39;00m \u001b[38;5;167;01mKeyboardInterrupt\u001b[39;00m:\n\u001b[1;32m   1232\u001b[0m     \u001b[38;5;66;03m# re-raise KeyboardInterrupt, to truncate traceback\u001b[39;00m\n\u001b[1;32m   1233\u001b[0m     msg \u001b[38;5;241m=\u001b[39m \u001b[38;5;124m\"\u001b[39m\u001b[38;5;124mInterrupted by user\u001b[39m\u001b[38;5;124m\"\u001b[39m\n\u001b[0;32m-> 1234\u001b[0m     \u001b[38;5;28;01mraise\u001b[39;00m \u001b[38;5;167;01mKeyboardInterrupt\u001b[39;00m(msg) \u001b[38;5;28;01mfrom\u001b[39;00m \u001b[38;5;28;01mNone\u001b[39;00m\n\u001b[1;32m   1235\u001b[0m \u001b[38;5;28;01mexcept\u001b[39;00m \u001b[38;5;167;01mException\u001b[39;00m:\n\u001b[1;32m   1236\u001b[0m     \u001b[38;5;28mself\u001b[39m\u001b[38;5;241m.\u001b[39mlog\u001b[38;5;241m.\u001b[39mwarning(\u001b[38;5;124m\"\u001b[39m\u001b[38;5;124mInvalid Message:\u001b[39m\u001b[38;5;124m\"\u001b[39m, exc_info\u001b[38;5;241m=\u001b[39m\u001b[38;5;28;01mTrue\u001b[39;00m)\n",
      "\u001b[0;31mKeyboardInterrupt\u001b[0m: Interrupted by user"
     ]
    }
   ],
   "source": [
    "    N = int(input(\"Escriba una N para hacer iteraciones \"))\n",
    "    \n",
    "    # debugging\n",
    "    \n",
    "    listap = []\n",
    "    \n",
    "    for x in range(N):\n",
    "        entrada = input(\"Ingrese un comando y luego dos valores enteros, ejemplo: insert. \")\n",
    "        print(entrada)\n",
    "        comando = entrada.split()\n",
    "        print(comando)\n",
    "        if comando == \"insert\":\n",
    "            i = int(comando[1].strip())\n",
    "            e = int(comando[2].strip())\n",
    "            listap.insert(i, e)\n",
    "            "
   ]
  },
  {
   "cell_type": "code",
   "execution_count": 45,
   "metadata": {},
   "outputs": [],
   "source": [
    "def run():\n",
    "    \n",
    "    \"\"\"\n",
    "        Función main del programa\n",
    "    \"\"\"\n",
    "    N = int(input(\"Escriba una N para hacer iteraciones \"))\n",
    "    \n",
    "    listap = []\n",
    "    \n",
    "    for x in range(N):\n",
    "        entrada = input(\"Ingrese un comando y luego dos valores enteros, ejemplo: insert. \")\n",
    "        prueba = entrada.split()\n",
    "        comando = prueba[0].lower()\n",
    "        \n",
    "        if comando == \"insert\":\n",
    "            i = int(prueba[1].strip())\n",
    "            e = int(prueba[2].strip())\n",
    "            listap.insert(i, e)\n",
    "            \n",
    "        elif comando == \"print\":\n",
    "            print(listap)\n",
    "        elif comando == \"remove\":\n",
    "            i = int(prueba[1].strip())\n",
    "            listap.remove(i)\n",
    "        elif comando == \"append\":\n",
    "            i = int(prueba[1].strip())\n",
    "            listap.append(i)\n",
    "        elif comando == \"sort\":\n",
    "            listap.sort()\n",
    "        elif comando == \"pop\":\n",
    "            listap.pop()\n",
    "        elif comando == \"reverse\":\n",
    "            listap.reverse()\n",
    "    return listap"
   ]
  },
  {
   "cell_type": "markdown",
   "metadata": {},
   "source": [
    "- insert i e\n",
    "- print\n",
    "- remove e\n",
    "- append e\n",
    "- sort\n",
    "- pop\n",
    "- reverse"
   ]
  },
  {
   "cell_type": "code",
   "execution_count": 46,
   "metadata": {},
   "outputs": [
    {
     "name": "stdout",
     "output_type": "stream",
     "text": [
      "Escriba una N para hacer iteraciones 20\n",
      "Ingrese un comando y luego dos valores enteros, ejemplo: insert. append 2\n",
      "Ingrese un comando y luego dos valores enteros, ejemplo: insert. append 23\n",
      "Ingrese un comando y luego dos valores enteros, ejemplo: insert. append 12\n",
      "Ingrese un comando y luego dos valores enteros, ejemplo: insert. append 2\n",
      "Ingrese un comando y luego dos valores enteros, ejemplo: insert. 67\n",
      "Ingrese un comando y luego dos valores enteros, ejemplo: insert. append 224\n",
      "Ingrese un comando y luego dos valores enteros, ejemplo: insert. append 87\n",
      "Ingrese un comando y luego dos valores enteros, ejemplo: insert. print\n",
      "[2, 23, 12, 2, 224, 87]\n",
      "Ingrese un comando y luego dos valores enteros, ejemplo: insert. remove 12\n",
      "Ingrese un comando y luego dos valores enteros, ejemplo: insert. print\n",
      "[2, 23, 2, 224, 87]\n",
      "Ingrese un comando y luego dos valores enteros, ejemplo: insert. sort\n",
      "Ingrese un comando y luego dos valores enteros, ejemplo: insert. print\n",
      "[2, 2, 23, 87, 224]\n",
      "Ingrese un comando y luego dos valores enteros, ejemplo: insert. insert 2 2\n",
      "Ingrese un comando y luego dos valores enteros, ejemplo: insert. print\n",
      "[2, 2, 2, 23, 87, 224]\n",
      "Ingrese un comando y luego dos valores enteros, ejemplo: insert. reverse\n",
      "Ingrese un comando y luego dos valores enteros, ejemplo: insert. print\n",
      "[224, 87, 23, 2, 2, 2]\n",
      "Ingrese un comando y luego dos valores enteros, ejemplo: insert. remove 2\n",
      "Ingrese un comando y luego dos valores enteros, ejemplo: insert. print\n",
      "[224, 87, 23, 2, 2]\n",
      "Ingrese un comando y luego dos valores enteros, ejemplo: insert. pop\n",
      "Ingrese un comando y luego dos valores enteros, ejemplo: insert. append 3\n"
     ]
    }
   ],
   "source": [
    "if __name__ == \"__main__\":\n",
    "    \n",
    "    run()\n",
    "    \n",
    "    "
   ]
  }
 ],
 "metadata": {
  "colab": {
   "provenance": []
  },
  "kernelspec": {
   "display_name": "Python 3 (ipykernel)",
   "language": "python",
   "name": "python3"
  },
  "language_info": {
   "codemirror_mode": {
    "name": "ipython",
    "version": 3
   },
   "file_extension": ".py",
   "mimetype": "text/x-python",
   "name": "python",
   "nbconvert_exporter": "python",
   "pygments_lexer": "ipython3",
   "version": "3.10.6"
  },
  "vscode": {
   "interpreter": {
    "hash": "31f2aee4e71d21fbe5cf8b01ff0e069b9275f58929596ceb00d14d90e3e16cd6"
   }
  }
 },
 "nbformat": 4,
 "nbformat_minor": 1
}
