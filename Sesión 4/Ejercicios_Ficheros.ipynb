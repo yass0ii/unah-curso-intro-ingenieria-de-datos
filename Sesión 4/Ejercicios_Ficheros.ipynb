{
 "cells": [
  {
   "cell_type": "markdown",
   "metadata": {
    "id": "fb-ysZHW9FJe"
   },
   "source": [
    "## **S4 Ejercicios: Ficheros**"
   ]
  },
  {
   "cell_type": "markdown",
   "metadata": {
    "id": "g69vJjNU9Sqr"
   },
   "source": [
    "# Ejercicio 1"
   ]
  },
  {
   "cell_type": "markdown",
   "metadata": {
    "id": "lsr9OJW0VKTD"
   },
   "source": [
    "Escribir una función que pida un número entero entre 1 y 10, lea el fichero tabla-n.txt con la tabla de multiplicar de ese número, donde n es el número introducido, y la muestre por pantalla. Si el fichero no existe debe mostrar un mensaje por pantalla informando de ello."
   ]
  },
  {
   "cell_type": "code",
   "execution_count": 31,
   "metadata": {},
   "outputs": [],
   "source": [
    "import csv\n",
    "import re"
   ]
  },
  {
   "cell_type": "code",
   "execution_count": 39,
   "metadata": {
    "id": "h2oS_5m2U4VP"
   },
   "outputs": [],
   "source": [
    "def readFile(path: str) -> list:\n",
    "    \"\"\"\n",
    "    Abre el documento dado un path\n",
    "    \"\"\"\n",
    "    f = open(path)\n",
    "    data = f.readlines()\n",
    "    f.close()\n",
    "    \n",
    "    return data\n",
    "\n",
    "\n",
    "def process():\n",
    "    \n",
    "    number = (input(\"Ingrese un número entero entre 1 y 10 \"))\n",
    "#     print(number)\n",
    "    \n",
    "    while True:\n",
    "        if int(number) > 10:\n",
    "            print(\"Error, el fichero no existe\")\n",
    "            number = int(input(\"Ingrese un número entero entre 1 y 10\"))\n",
    "        else:\n",
    "            n = number\n",
    "            break\n",
    "        \n",
    "    name = f\"dataset/Tabla_1-10/tabla-{n}.txt\"\n",
    "    \n",
    "    data = readFile(name)\n",
    "    \n",
    "#     corteData = data.replace(\"\\n\", \"\").split(\",\")\n",
    "    \n",
    "#     newData = []\n",
    "    \n",
    "#     for line in data:\n",
    "        \n",
    "#         newData.append().remove(\"n\\\")\n",
    "    \n",
    "    \n",
    "    return data\n",
    "    \n",
    "    "
   ]
  },
  {
   "cell_type": "code",
   "execution_count": 2,
   "metadata": {
    "scrolled": false
   },
   "outputs": [
    {
     "ename": "NameError",
     "evalue": "name 'process' is not defined",
     "output_type": "error",
     "traceback": [
      "\u001b[0;31m---------------------------------------------------------------------------\u001b[0m",
      "\u001b[0;31mNameError\u001b[0m                                 Traceback (most recent call last)",
      "Cell \u001b[0;32mIn[2], line 4\u001b[0m\n\u001b[1;32m      1\u001b[0m \u001b[38;5;28;01mif\u001b[39;00m \u001b[38;5;18m__name__\u001b[39m \u001b[38;5;241m==\u001b[39m \u001b[38;5;124m\"\u001b[39m\u001b[38;5;124m__main__\u001b[39m\u001b[38;5;124m\"\u001b[39m:\n\u001b[0;32m----> 4\u001b[0m     \u001b[38;5;28mprint\u001b[39m(\u001b[43mprocess\u001b[49m())\n\u001b[1;32m      6\u001b[0m     lista \u001b[38;5;241m=\u001b[39m process()\n\u001b[1;32m      8\u001b[0m     data \u001b[38;5;241m=\u001b[39m [lista\u001b[38;5;241m.\u001b[39mstrip() \u001b[38;5;28;01mfor\u001b[39;00m line \u001b[38;5;129;01min\u001b[39;00m lista]\n",
      "\u001b[0;31mNameError\u001b[0m: name 'process' is not defined"
     ]
    }
   ],
   "source": [
    "if __name__ == \"__main__\":\n",
    "    \n",
    "\n",
    "    print(process())\n",
    "    \n",
    "    lista = process()\n",
    "    \n",
    "    data = [lista.strip() for line in lista]\n",
    "    "
   ]
  },
  {
   "cell_type": "code",
   "execution_count": 73,
   "metadata": {},
   "outputs": [
    {
     "data": {
      "text/plain": [
       "['5 x 1 = 5\\n',\n",
       " '5 x 2 = 10\\n',\n",
       " '5 x 3 = 15\\n',\n",
       " '5 x 4 = 20\\n',\n",
       " '5 x 5 = 25\\n',\n",
       " '5 x 6 = 30\\n',\n",
       " '5 x 7 = 35\\n',\n",
       " '5 x 8 = 40\\n',\n",
       " '5 x 9 = 45\\n',\n",
       " '5 x 10 = 50']"
      ]
     },
     "execution_count": 73,
     "metadata": {},
     "output_type": "execute_result"
    }
   ],
   "source": [
    "data"
   ]
  },
  {
   "cell_type": "markdown",
   "metadata": {
    "id": "fUb2FEH29V7D"
   },
   "source": [
    "# Ejercicio 2"
   ]
  },
  {
   "cell_type": "markdown",
   "metadata": {
    "id": "NM_IyjU2VMnT"
   },
   "source": [
    "Escribir un programa para gestionar un listín telefónico con los nombres y los teléfonos de los clientes de una empresa. \n",
    "El programa incorporará las siguientes funciones: Crear el fichero con el listín si no existe, consultar el teléfono de un cliente, añadir el teléfono de un nuevo cliente y eliminar el teléfono de un cliente. El listín debe estar guardado en el fichero de texto listin.txt donde el nombre del cliente y su teléfono deben aparecer separados por comas y cada cliente en una línea distinta.\n",
    "\n"
   ]
  },
  {
   "cell_type": "code",
   "execution_count": null,
   "metadata": {
    "id": "WjWZADyrVM6d"
   },
   "outputs": [],
   "source": [
    "import os\n",
    "\n",
    "class Client:\n",
    "    \"\"\"\n",
    "        Clase client que contiene conjunto de características correspondiente a los clientes\n",
    "    \"\"\"\n",
    "    def __init__(self, name:str, phone_number:str, fm) -> None:\n",
    "        pass\n",
    "    \n",
    "    \n",
    "class FileManager:\n",
    "    \"\"\"\n",
    "        Clase para gestionar las operaciones CRUD de un archivo plano\n",
    "    \"\"\"\n",
    "    def __init__(self, path:str) -> None:\n",
    "        pass"
   ]
  },
  {
   "cell_type": "code",
   "execution_count": null,
   "metadata": {},
   "outputs": [],
   "source": [
    "if __name__ == \"__main__\":\n",
    "    \n",
    "    filePath = \"listin.txt\"\n",
    "    fm = FileManager(filePath)\n",
    "    \n",
    "    client1 = Client(name=\"Jennifer Lopez\", phoneNumber=\"+1 (555) 123-4567\", fm=fm)\n",
    "#     client1.add_client()\n",
    "\n",
    "    client2 = Client(name=\"Tom Hanks\", phoneNumber=\"+1 (555) 987-6543\", fm=fm)\n",
    "#     client2.add_client()\n",
    "\n",
    "    client3 = Client(name=\"Beyoncé Knowles\", phoneNumber=\"+1 (555) 876-5432\", fm=fm)\n",
    "#     client3.add_client()\n",
    "\n",
    "    client4 = Client(name=\"Leonardo DiCaprio\", phoneNumber=\"+1 (555) 234-5678\", fm=fm)\n",
    "#     client4.add_client()\n",
    "\n",
    "    client5 = Client(name=\"Angelina Jolie\", phoneNumber=\"+1 (555) 345-6789\", fm=fm)\n",
    "#     client5.add_client()\n",
    "\n",
    "#     [print(client) for client in fm.viewAllClients()]"
   ]
  },
  {
   "cell_type": "markdown",
   "metadata": {
    "id": "nglvDpFO9Xrf"
   },
   "source": [
    "# Ejercicio 3"
   ]
  },
  {
   "cell_type": "markdown",
   "metadata": {
    "id": "cHTx2OApVNBk"
   },
   "source": [
    "El fichero cotizacion.csv contiene las cotizaciones de las empresas del IBEX35 con las siguientes columnas: Nombre (nombre de la empresa), Final (precio de la acción al cierre de bolsa), Máximo (precio máximo de la acción durante la jornada), Mínimo (precio mínimo de la acción durante la jornada), Volumen (Volumen al cierre de bolsa), Efectivo (capitalización al cierre en miles de euros).\n",
    "\n",
    "Construir una función reciba el fichero de cotizaciones y devuelva un diccionario con los datos del fichero por columnas.\n",
    "\n",
    "Construir una función que reciba el diccionario devuelto por la función anterior y cree un fichero en formato csv con el mínimo, el máximo y la media de cada columna.\n",
    "\n"
   ]
  },
  {
   "cell_type": "code",
   "execution_count": 4,
   "metadata": {},
   "outputs": [],
   "source": [
    "import csv\n",
    "import json\n",
    "import re"
   ]
  },
  {
   "cell_type": "code",
   "execution_count": 5,
   "metadata": {},
   "outputs": [],
   "source": [
    "def read_csv(path:str) -> list:\n",
    "    \"\"\"\n",
    "        Lectura de un archivo con formato CSV, retorna los valores en forma de lista\n",
    "    \"\"\"\n",
    "    f = open(path)\n",
    "    data = f.readlines()\n",
    "    f.close()\n",
    "    \n",
    "    return data\n",
    "    \n",
    "    \n",
    "def preprocess(row:str) -> list: \n",
    "    \"\"\"\n",
    "        Preprocesamiento, tratamiento y limpieza de los datos\n",
    "    \"\"\"\n",
    "    preproceso = row.replace(\"\\n\", \"\").split(\";\")\n",
    "    newdata = []\n",
    "    for line in preproceso:\n",
    "        \n",
    "        if re.match(r\"\\d+,\\d+\", line):\n",
    "            newdata.append( float( line.replace(\",\", \".\") ) )\n",
    "#             r\"\" es como lo que abre el formto de la expresión regular y dentro de cual se indica el patrón (?). El d/+ ¿es\n",
    "#             un patrón de la expresión regular?. Lo importante es identificar que el elemento diferente en el patro en la \",\"\n",
    "#             la cuál se reeemplaza con el método replace por un \".\" y se agrega a la nueva lista con el método append\n",
    "        elif re.match(r\"\\d+.\\d+\", line):\n",
    "            newdata.append( int( line.replace(\".\", \"\") ) )\n",
    "        else:\n",
    "            newdata.append(line)\n",
    "    return newdata\n",
    "\n",
    "\n",
    "def mean(values:list) -> float:\n",
    "    \"\"\"\n",
    "        Cálculo de la media de una lista de números\n",
    "    \"\"\"\n",
    "    return round(sum(values)/len(values), 2)\n",
    "\n",
    "\n",
    "def list_to_dict(data_csv:list) -> dict:\n",
    "    \"\"\"\n",
    "        Convierte una lista en un diccionario\n",
    "    \"\"\"\n",
    "    \n",
    "    new_json = []\n",
    "    \n",
    "    for row in data_csv:\n",
    "        \n",
    "        data = {}\n",
    "#         El símbolo \"{}\" ¿ define un objeto ?\n",
    "        \n",
    "        data[\"minimo\"] = row[3]\n",
    "        data[\"maximo\"] = row[2]\n",
    "        data[\"media\"]  = mean( [ data[\"minimo\"], data[\"maximo\"] ])\n",
    "        \n",
    "        new_json.append(data)\n",
    "        \n",
    "    return json.dumps(new_json)\n",
    "# método de json que parece grabar el objeto en el json (?) ¿El diccionario es un objeto?\n",
    "\n",
    "    \n",
    "\n",
    "def json_to_csv(data_json:list, path:str) -> None:\n",
    "    \"\"\"\n",
    "        A partir de un arreglo de dirccionario, almacena los valores ne un archivo .csv\n",
    "    \"\"\"\n",
    "    \n",
    "    f = open(path, mode = \"w\")\n",
    "#     el mode = \"w\" permite escribir en un archivo (?). \"open\" tiene dos argumentos, uno para la dirección y otro para\n",
    "#     el mode\n",
    "\n",
    "    writer = csv.writer(f)\n",
    "    writer.writerow([\"minimo\", \"maximo\", \"media\"])\n",
    "#   Nombrando la variable donde se va a escribir con un método de csv. Luego nombrando las columnas.\n",
    "    \n",
    "    data_json = json.loads(data_json)\n",
    "#     Este método ¿Qué carga en la variable? ¿una lista a un objeto?\n",
    "    \n",
    "    for line in data_json:\n",
    "        \n",
    "        writer.writerow([ line[\"minimo\"], line[\"maximo\"], line[\"media\"]])\n",
    "#         con esto estamos escribiendo una lista desde un json\n",
    "        \n",
    "    f.close()\n",
    "    \n",
    "    return True"
   ]
  },
  {
   "cell_type": "code",
   "execution_count": 6,
   "metadata": {},
   "outputs": [
    {
     "name": "stdout",
     "output_type": "stream",
     "text": [
      "True\n"
     ]
    }
   ],
   "source": [
    " if __name__ == \"__main__\":\n",
    "    path = \"dataset/cotizacion.csv\"\n",
    "#     path se refiere a dónde está el archivo que voy a utilizar\n",
    "    new_path = \"dataset/nueva_cotizacion.csv\"\n",
    "#     new_path me coloca un nuevo archivo en la dirección que le indico\n",
    "    \n",
    "    data_csv = [preprocess(row) for row in read_csv(path)]\n",
    "#     \n",
    "    \n",
    "    data_csv.pop(0)\n",
    "#   Elimina la fila de los títulos\n",
    "    \n",
    "    data_json = list_to_dict(data_csv)\n",
    "    \n",
    "    \n",
    "    json_to_csv(data_json, new_path)\n",
    "    \n",
    "    print(json_to_csv(data_json, new_path))\n"
   ]
  },
  {
   "cell_type": "code",
   "execution_count": 9,
   "metadata": {},
   "outputs": [
    {
     "data": {
      "text/plain": [
       "'[{\"minimo\": 94.4, \"maximo\": 96.75, \"media\": 95.58}, {\"minimo\": 8468, \"maximo\": 8672, \"media\": 8570.0}, {\"minimo\": 37.22, \"maximo\": 37.66, \"media\": 37.44}, {\"minimo\": 166.1, \"maximo\": 167.5, \"media\": 166.8}, {\"minimo\": 69.56, \"maximo\": 70.64, \"media\": 70.1}, {\"minimo\": 14.08, \"maximo\": 14318, \"media\": 7166.04}, {\"minimo\": 1.0165, \"maximo\": 1033, \"media\": 517.01}, {\"minimo\": 4.01, \"maximo\": 4.0675, \"media\": 4.04}, {\"minimo\": 2224, \"maximo\": 2262, \"media\": 2243.0}, {\"minimo\": 6522, \"maximo\": 6604, \"media\": 6563.0}, {\"minimo\": 4969, \"maximo\": 5.05, \"media\": 2487.03}, {\"minimo\": 2762, \"maximo\": 2806, \"media\": 2784.0}, {\"minimo\": 30.17, \"maximo\": 30.7, \"media\": 30.44}, {\"minimo\": 23.4, \"maximo\": 23.74, \"media\": 23.57}, {\"minimo\": 25.07, \"maximo\": 25.66, \"media\": 25.37}, {\"minimo\": 3846, \"maximo\": 3974, \"media\": 3910.0}, {\"minimo\": 22.62, \"maximo\": 23.03, \"media\": 22.83}, {\"minimo\": 21.38, \"maximo\": 21.72, \"media\": 21.55}, {\"minimo\": 23.27, \"maximo\": 23.6, \"media\": 23.44}, {\"minimo\": 5292, \"maximo\": 5.46, \"media\": 2648.73}, {\"minimo\": 8262, \"maximo\": 8.45, \"media\": 4135.23}, {\"minimo\": 24.87, \"maximo\": 25.19, \"media\": 25.03}, {\"minimo\": 9535, \"maximo\": 9685, \"media\": 9610.0}, {\"minimo\": 9745, \"maximo\": 9915, \"media\": 9830.0}, {\"minimo\": 2.62, \"maximo\": 2654, \"media\": 1328.31}, {\"minimo\": 6446, \"maximo\": 6592, \"media\": 6519.0}, {\"minimo\": 8.02, \"maximo\": 8.19, \"media\": 8.11}, {\"minimo\": 11.83, \"maximo\": 12.08, \"media\": 11.96}, {\"minimo\": 26.53, \"maximo\": 26.77, \"media\": 26.65}, {\"minimo\": 19675, \"maximo\": 19875, \"media\": 19775.0}, {\"minimo\": 14.46, \"maximo\": 14605, \"media\": 7309.73}, {\"minimo\": 14155, \"maximo\": 14.39, \"media\": 7084.69}, {\"minimo\": 22.78, \"maximo\": 23.2, \"media\": 22.99}, {\"minimo\": 7185, \"maximo\": 7256, \"media\": 7220.5}, {\"minimo\": 48.46, \"maximo\": 49.12, \"media\": 48.79}]'"
      ]
     },
     "execution_count": 9,
     "metadata": {},
     "output_type": "execute_result"
    }
   ],
   "source": [
    "data_json\n"
   ]
  },
  {
   "cell_type": "code",
   "execution_count": 10,
   "metadata": {},
   "outputs": [
    {
     "data": {
      "text/plain": [
       "['ACCIONA', 95.95, 96.75, 94.4, 84962, 8166.11]"
      ]
     },
     "execution_count": 10,
     "metadata": {},
     "output_type": "execute_result"
    }
   ],
   "source": [
    "preprocess(data[1])"
   ]
  }
 ],
 "metadata": {
  "colab": {
   "provenance": []
  },
  "kernelspec": {
   "display_name": "Python 3 (ipykernel)",
   "language": "python",
   "name": "python3"
  },
  "language_info": {
   "codemirror_mode": {
    "name": "ipython",
    "version": 3
   },
   "file_extension": ".py",
   "mimetype": "text/x-python",
   "name": "python",
   "nbconvert_exporter": "python",
   "pygments_lexer": "ipython3",
   "version": "3.10.6"
  },
  "vscode": {
   "interpreter": {
    "hash": "31f2aee4e71d21fbe5cf8b01ff0e069b9275f58929596ceb00d14d90e3e16cd6"
   }
  }
 },
 "nbformat": 4,
 "nbformat_minor": 1
}
