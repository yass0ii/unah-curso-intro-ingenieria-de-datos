{
 "cells": [
  {
   "cell_type": "markdown",
   "metadata": {
    "id": "THf5OffyCEIG"
   },
   "source": [
    "# **S4 Ejercicios: bucle for**"
   ]
  },
  {
   "cell_type": "markdown",
   "metadata": {
    "id": "HToNxUH8GoFr"
   },
   "source": [
    "# Ejercicio 1\n",
    "\n"
   ]
  },
  {
   "cell_type": "markdown",
   "metadata": {
    "id": "G-lJ59z6G0ds"
   },
   "source": [
    "Escribir programa que solicite ingresar un nombre de usuario y una contraseña. Si el nombre es **Jon Snow** y la contraseña es **rey-del-norte**, mostrar en pantalla **Usuario y contraseña correctos. Puede ingresar a lacasadeldragon.com**. Si el nombre o la contraseña no coinciden, mostrar **Acceso denegado**.\n",
    "\n"
   ]
  },
  {
   "cell_type": "code",
   "execution_count": null,
   "metadata": {
    "id": "cnRtZVRgIwfz"
   },
   "outputs": [
    {
     "name": "stdout",
     "output_type": "stream",
     "text": [
      "Ingrese user rty\n",
      "Ingrese contraseña rt\n",
      "Acceso denegado\n"
     ]
    }
   ],
   "source": [
    "if __name__ == \"__main__\":\n",
    "    while True:\n",
    "        nombre = input(\"Ingrese user \")\n",
    "        password = input(\"Ingrese contraseña \")\n",
    "        if nombre == \"Jon Snow\" and password == \"rey-del-norte\":\n",
    "            print(\"Puede ingresar a lacasadeldragon.com\")\n",
    "            break\n",
    "        else:\n",
    "            print(\"Acceso denegado\")"
   ]
  },
  {
   "cell_type": "markdown",
   "metadata": {
    "id": "WgS6QjY4CHH2"
   },
   "source": [
    "# Ejercicio 2"
   ]
  },
  {
   "cell_type": "markdown",
   "metadata": {
    "id": "J-LAyWpTIw97"
   },
   "source": [
    "Escribir un programa para solicitar al usuario tres números y mostrar en pantalla al menor de los tres."
   ]
  },
  {
   "cell_type": "code",
   "execution_count": 6,
   "metadata": {
    "id": "xxHHIurWJHdj"
   },
   "outputs": [
    {
     "name": "stdout",
     "output_type": "stream",
     "text": [
      "Ingrese un número 454\n",
      "Ingrese un número 87\n",
      "Ingrese un número 212\n",
      " El número menor es 87\n"
     ]
    }
   ],
   "source": [
    "if __name__ == \"__main__\":\n",
    "    \n",
    "    lista = []\n",
    "    \n",
    "    for value in range (0, 3):\n",
    "        numero = int(input(\"Ingrese un número \"))\n",
    "        lista.append(numero)\n",
    "    \n",
    "    print(f\" El número menor es {min(lista)}\")"
   ]
  },
  {
   "cell_type": "markdown",
   "metadata": {
    "id": "A1-T_ELYCIL1"
   },
   "source": [
    "# Ejercicio 3"
   ]
  },
  {
   "cell_type": "markdown",
   "metadata": {
    "id": "BredljxPJHyD"
   },
   "source": [
    "Escribir programa que permita saber si un año es bisiesto. Para que un año sea bisiesto debe ser divisible por 4 y no debe ser divisible por 100, excepto que también sea divisible por 400."
   ]
  },
  {
   "cell_type": "code",
   "execution_count": 4,
   "metadata": {
    "id": "Q447K_4eJSJL"
   },
   "outputs": [
    {
     "name": "stdout",
     "output_type": "stream",
     "text": [
      "ingrese un año 2000\n",
      "El año 2000 es bisiesto\n"
     ]
    }
   ],
   "source": [
    "if __name__ == \"__main__\":\n",
    "    \n",
    "    value = int(input(\"ingrese un año \"))\n",
    "    \n",
    "    if value % 4 == 0 and (value % 100 != 0 or value % 400 == 0):\n",
    "        print(f\"El año {value} es bisiesto\")\n",
    "    else:\n",
    "        print(f\"El año {value} no es bisiesto\")\n",
    "        \n",
    "    "
   ]
  },
  {
   "cell_type": "markdown",
   "metadata": {
    "id": "nW9gOVwwCJN2"
   },
   "source": [
    "# Ejercicio 4"
   ]
  },
  {
   "cell_type": "markdown",
   "metadata": {
    "id": "fTyh-JcVJxwc"
   },
   "source": [
    "Escribe un programa que muestre la sumatoria de todos los números entre el 0 y el 100."
   ]
  },
  {
   "cell_type": "code",
   "execution_count": 15,
   "metadata": {
    "id": "_-TEuWLwKIjL"
   },
   "outputs": [
    {
     "name": "stdout",
     "output_type": "stream",
     "text": [
      "5050\n"
     ]
    }
   ],
   "source": [
    "if __name__ == \"__main__\":\n",
    "    \n",
    "    sumatoria = []\n",
    "    value = 0\n",
    "    \n",
    "    for value in range(0, 100):\n",
    "        value = value + 1\n",
    "        sumatoria.append(value)\n",
    "    \n",
    "    print(sum(sumatoria))\n",
    "\n",
    "        "
   ]
  },
  {
   "cell_type": "markdown",
   "metadata": {
    "id": "48pwGNt5CREN"
   },
   "source": [
    "# Ejercicio 5"
   ]
  },
  {
   "cell_type": "markdown",
   "metadata": {
    "id": "MbhhjCnXKIus"
   },
   "source": [
    "Escribir un programa que, dado un número por el usuario, muestre todos sus divisores positivos"
   ]
  },
  {
   "cell_type": "code",
   "execution_count": 24,
   "metadata": {
    "id": "ipy1z34mKgzL"
   },
   "outputs": [
    {
     "name": "stdout",
     "output_type": "stream",
     "text": [
      "Ingrese un número pofavo O.o 75\n",
      "[1, 3, 5, 15, 25, 75]\n"
     ]
    }
   ],
   "source": [
    "if __name__ == \"__main__\":\n",
    "    \n",
    "    n = int(input(\"Ingrese un número pofavo O.o \"))\n",
    "    divisores = []\n",
    "    \n",
    "    for index in range(1, n + 1):\n",
    "        if n % index == 0:\n",
    "             divisores.append(index)\n",
    "    print(divisores)\n",
    "        \n",
    "                "
   ]
  },
  {
   "cell_type": "markdown",
   "metadata": {
    "id": "fd5cxsDhCSL1"
   },
   "source": [
    "# Ejercicio 6"
   ]
  },
  {
   "cell_type": "markdown",
   "metadata": {
    "id": "SHdwwbJ5KhAk"
   },
   "source": [
    "Escribir programa que muestre los primeros 10 números de la sucesión de Fibonacci. La sucesión comienza con los números 0 y 1 y, a partir de éstos, cada elemento es la suma de los dos números anteriores en la secuencia: 0, 1, 1, 2, 3, 5, 8, 13, 21, 34, 55…"
   ]
  },
  {
   "cell_type": "code",
   "execution_count": 11,
   "metadata": {
    "id": "NGT4cObwK4sz"
   },
   "outputs": [
    {
     "name": "stdout",
     "output_type": "stream",
     "text": [
      "[1, 2, 3, 5, 8, 13, 21, 34, 55, 89]\n"
     ]
    }
   ],
   "source": [
    "if __name__ == \"__main__\":\n",
    "    \n",
    "    index = 0\n",
    "    f0 = 0\n",
    "    f1 = 1\n",
    "    fibo = []\n",
    "    \n",
    "    for index in range(0, 10):\n",
    "        contador = index + 1\n",
    "        fn = f1 + f0\n",
    "        fibo.append(fn)\n",
    "        f0 = f1\n",
    "        f1 = fn\n",
    "    print(fibo)"
   ]
  },
  {
   "cell_type": "markdown",
   "metadata": {
    "id": "CZkqltOGCT--"
   },
   "source": [
    "# Ejercicio 7"
   ]
  },
  {
   "cell_type": "markdown",
   "metadata": {
    "id": "sjgB1oQEK5Tq"
   },
   "source": [
    "Escribir programa que, dado un número entero positivo, calcule y muestre su factorial."
   ]
  },
  {
   "cell_type": "code",
   "execution_count": 13,
   "metadata": {
    "id": "I-Vq7GpLLAYb"
   },
   "outputs": [
    {
     "name": "stdout",
     "output_type": "stream",
     "text": [
      "Ingrese un número para hacer cálculo de su factorial 6\n",
      "720\n"
     ]
    }
   ],
   "source": [
    "if __name__ == \"__main__\":\n",
    "    \n",
    "    numero = int(input(\"Ingrese un número para hacer cálculo de su factorial \"))\n",
    "    fact = 1\n",
    "    for value in range(1, numero + 1 ):\n",
    "        fact = fact * (value)\n",
    "    print(fact)"
   ]
  },
  {
   "cell_type": "markdown",
   "metadata": {
    "id": "G_sNfsnoCWIl"
   },
   "source": [
    "# Ejercicio 8"
   ]
  },
  {
   "cell_type": "markdown",
   "metadata": {
    "id": "1xOF-DBKL0az"
   },
   "source": [
    "Escribir programa que permita al usuario ingresar el coste de las compras de un cliente (se desconoce la cantidad de datos que cargará, la cual puede cambiar en cada ejecución), cortando el ingreso de datos cuando el usuario ingrese el coste 0. Si ingresa un coste negativo, no se debe procesar y se debe pedir que ingrese un nuevo coste. Al finalizar, informar el total a pagar teniendo que cuenta que, si las ventas superan el monto total de 1000, se le debe aplicar un 10% de descuento.\n",
    "\n",
    "Utilizar Try, Catch por si el usuario introduce una cadena de texto."
   ]
  },
  {
   "cell_type": "code",
   "execution_count": 23,
   "metadata": {
    "id": "J5fKMrRiMUYM"
   },
   "outputs": [
    {
     "name": "stdout",
     "output_type": "stream",
     "text": [
      "Ingrese el costo 150\n",
      "Ingrese el costo 950\n",
      "Ingrese el costo 0\n",
      "Su total es de 1100.0, pero le hemos otorgado un descuento del 10%, su nuevo total es de 990.0\n"
     ]
    }
   ],
   "source": [
    "if __name__ == \"__main__\":\n",
    "    \n",
    "    costos = []\n",
    "     \n",
    "    while True:\n",
    "        try:\n",
    "            a = float(input(\"Ingrese el costo \"))\n",
    "            \n",
    "            if a == 0:\n",
    "                break\n",
    "            \n",
    "            if a > 0:\n",
    "                costos.append(a)\n",
    "               \n",
    "            elif a < 0:\n",
    "                print(\"Ingrese el costo en valor positivo \")\n",
    "                continue\n",
    "                \n",
    "        except ValueError:\n",
    "            print(\"El valor debe estar solo en números \")\n",
    "            continue\n",
    "    T = sum(costos)\n",
    "    \n",
    "    if T > 1000:\n",
    "        print(f\"Su total es de {T}, pero le hemos otorgado un descuento del 10%, su nuevo total es de {T*0.9}\")\n",
    "    else:\n",
    "        print(f\"Su total es de {T}\")\n",
    "              \n",
    "              "
   ]
  },
  {
   "cell_type": "code",
   "execution_count": null,
   "metadata": {},
   "outputs": [],
   "source": []
  }
 ],
 "metadata": {
  "colab": {
   "provenance": []
  },
  "kernelspec": {
   "display_name": "Python 3 (ipykernel)",
   "language": "python",
   "name": "python3"
  },
  "language_info": {
   "codemirror_mode": {
    "name": "ipython",
    "version": 3
   },
   "file_extension": ".py",
   "mimetype": "text/x-python",
   "name": "python",
   "nbconvert_exporter": "python",
   "pygments_lexer": "ipython3",
   "version": "3.10.6"
  },
  "vscode": {
   "interpreter": {
    "hash": "31f2aee4e71d21fbe5cf8b01ff0e069b9275f58929596ceb00d14d90e3e16cd6"
   }
  }
 },
 "nbformat": 4,
 "nbformat_minor": 1
}
