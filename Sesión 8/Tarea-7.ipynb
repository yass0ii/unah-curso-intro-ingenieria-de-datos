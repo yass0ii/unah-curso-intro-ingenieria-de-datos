{
 "cells": [
  {
   "cell_type": "markdown",
   "id": "87e51f9b",
   "metadata": {},
   "source": [
    "# Tarea 7\n",
    "\n",
    "Se le proporciona un fragmento de código HTML de N líneas.\n",
    "Su tarea es imprimir etiquetas de inicio, etiquetas de finalización y etiquetas vacías por separado.\n",
    "\n",
    "Formatee sus resultados de la siguiente manera:\n",
    "```\n",
    "Start : Tag1\n",
    "End   : Tag1\n",
    "Start : Tag2\n",
    "-> Attribute2[0] > Attribute_value2[0]\n",
    "-> Attribute2[1] > Attribute_value2[1]\n",
    "-> Attribute2[2] > Attribute_value2[2]\n",
    "Start : Tag3\n",
    "-> Attribute3[0] > None\n",
    "Empty : Tag4\n",
    "-> Attribute4[0] > Attribute_value4[0]\n",
    "End   : Tag3\n",
    "End   : Tag2\n",
    "```\n",
    "Aquí, el símbolo `->` indica que la etiqueta contiene un atributo. Seguido inmediatamente por el nombre del atributo y el valor del atributo.\n",
    "El símbolo `>` actúa como separador del atributo y el valor del atributo.\n",
    "\n",
    "Si una etiqueta `HTML` no tiene atributo, simplemente imprima el nombre de la etiqueta.\n",
    "Si un atributo no tiene valor de atributo, simplemente imprima el nombre del valor de atributo como `None`.\n",
    "\n",
    "Nota: No detecte ninguna etiqueta `HTML`, atributo o valor de atributo dentro de las etiquetas de comentarios `HTML` `(<!-- Comentarios -->)`. Los comentarios también pueden tener varias líneas.\n",
    "\n",
    "## Formato de entrada\n",
    "\n",
    "La primera línea contiene el número entero N, el número de líneas en un fragmento de código `HTML`.\n",
    "Las siguientes N líneas contienen código HTML.\n",
    "\n",
    "\n",
    "## Formato de salida\n",
    "\n",
    "Imprima las etiquetas `HTML`, los atributos y los valores de los atributos en orden de aparición de arriba a abajo en el fragmento dado.\n",
    "\n",
    "Use el formato adecuado como se explica en el enunciado del problema.\n",
    "\n",
    "## Entrada de muestra\n",
    "\n",
    "```\n",
    "2\n",
    "<html><head><title>Analizador HTML - I</title></head>\n",
    "<body data-modal-target class='1'><h1>HackerRank</h1><br /></body></html>\n",
    "```\n",
    "\n",
    "## Salida de muestra\n",
    "\n",
    "```\n",
    "Start : html\n",
    "Start : head\n",
    "Start : title\n",
    "End   : title\n",
    "End   : head\n",
    "Start : body\n",
    "-> data-modal-target > None\n",
    "-> class > 1\n",
    "Start : h1\n",
    "End   : h1\n",
    "Empty : br\n",
    "End   : body\n",
    "End   : html\n",
    "```\n",
    "\n",
    "## Consideraciones finales\n",
    "- Se le proporciona un código inicial, continue dicha estructura seguiendo el paradigma Orientado a Objetos.\n",
    "- Considere utilizar la página web [regexr](https://regexr.com/7h4a4) para analizar la expresión regular de la línea número 12 `\\<([a-zA-Z0-9/=#//:.\\'\\\" _-]+\\s*)*\\>`; condire utilizar dicha página para evaluar y construir sus expresiones regulares.\n",
    "- La función `run()` dentro de la clase `HTMLParser` es la función main de dicha clase. \n",
    "- Será necesario que el estudiante diseñe y programe las diferentes *funciones* que den resolución al problema planteado.\n",
    "- El código contenido en la última celda no deberá ser modificada por el estudiante al momento de subir el entregable final."
   ]
  },
  {
   "cell_type": "code",
   "execution_count": 1,
   "id": "d2f88116",
   "metadata": {},
   "outputs": [],
   "source": [
    "from core.HTMLParser import HTMLParser"
   ]
  },
  {
   "cell_type": "code",
   "execution_count": 2,
   "id": "ea3beaa0",
   "metadata": {},
   "outputs": [
    {
     "name": "stdout",
     "output_type": "stream",
     "text": [
      "Start : html\n",
      "Start : head\n",
      "Start : title\n",
      "End : title\n",
      "End : head\n",
      "Start: body\n",
      "-> data-modal-target > None\n",
      "-> class > 1\n",
      "Start : h1\n",
      "End : h1\n",
      "Empty : br \n",
      "End : body\n",
      "End : html\n"
     ]
    }
   ],
   "source": [
    "if __name__ == \"__main__\":\n",
    "    \n",
    "    # Test de prueba número 2\n",
    "    html2 = \"\"\"<!DOCTYPE html><html><head><title>Título de la página</title></head><body><header id=\"encabezado\" class=\"principal\"><h1>Bienvenidos</h1></header><nav><ul><li><a href=\"https://www.nuevo-inicio.com\" class=\"activo\">Inicio</a></li><li><a href=\"#\">Acerca de</a></li><li><a href=\"https://www.nuevo-contacto.com\" target=\"_blank\">Contacto</a></li></ul></nav><main><h2>Contenido principal</h2><p>Este es un párrafo de ejemplo.</p><img src=\"imagen.jpg\" alt=\"Imagen de ejemplo\" width=\"300\" height=\"200\"><a href=\"https://www.nuevo-enlace.com\" target=\"_blank\" rel=\"noopener noreferrer\">Enlace externo</a></main><footer><p>&copy; 2023 - Todos los derechos reservados</p></footer></body></html>\"\"\"\n",
    "\n",
    "    # Test de prueba número 1\n",
    "    html = \"<html><head><title>HTML Parser - I</title></head>\\n<body data-modal-target class='1'><h1>HackerRank</h1><br /></body></html>\"    \n",
    "    parser  = HTMLParser(html)\n",
    "    \n",
    "    parser.run()"
   ]
  }
 ],
 "metadata": {
  "kernelspec": {
   "display_name": "Python 3 (ipykernel)",
   "language": "python",
   "name": "python3"
  },
  "language_info": {
   "codemirror_mode": {
    "name": "ipython",
    "version": 3
   },
   "file_extension": ".py",
   "mimetype": "text/x-python",
   "name": "python",
   "nbconvert_exporter": "python",
   "pygments_lexer": "ipython3",
   "version": "3.10.6"
  }
 },
 "nbformat": 4,
 "nbformat_minor": 5
}
