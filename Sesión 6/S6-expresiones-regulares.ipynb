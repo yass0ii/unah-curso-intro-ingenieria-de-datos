{
 "cells": [
  {
   "cell_type": "markdown",
   "id": "326cdcdb",
   "metadata": {},
   "source": [
    "# S6: Expresiones Regulares"
   ]
  },
  {
   "cell_type": "markdown",
   "id": "bf0e7160",
   "metadata": {},
   "source": [
    "---"
   ]
  },
  {
   "cell_type": "markdown",
   "id": "0a74e934",
   "metadata": {},
   "source": [
    "Una dirección de correo electrónico válida cumple con los siguientes criterios:\n",
    "\n",
    "- Se compone de un nombre de usuario, un nombre de dominio y una extensión ensamblados en este formato: `nombredeusuario@dominio.extensión`\n",
    "- El nombre de usuario comienza con un carácter alfabético inglés y cualquier carácter subsiguiente consta de uno o más de los siguientes: caracteres alfanuméricos, `-,. y _`.\n",
    "- El dominio y la extensión contienen solo caracteres alfabéticos en inglés.\n",
    "- La extensión tiene 1, 2 o 3 caracteres de longitud.\n",
    "\n",
    "Dados los pares de nombres y direcciones de correo electrónico como entrada, imprima cada par de nombre y dirección de correo electrónico con una dirección de correo electrónico válida en una nueva línea.\n",
    "\n",
    "### Formato de entrada\n",
    "\n",
    "La primera línea contiene un solo número entero, n, que indica el número de dirección de correo electrónico.\n",
    "Cada línea i de las n líneas subsiguientes contiene un nombre y una dirección de correo electrónico como dos valores separados por espacios siguiendo este formato:\n",
    "\n",
    "nombre <usuario@email.com>\n",
    "\n",
    "### Restricciones\n",
    "```\n",
    "0 < n < 100\n",
    "```\n",
    "### Formato de salida\n",
    "\n",
    "Imprima los pares de nombre y dirección de correo electrónico separados por espacios que contengan únicamente direcciones de correo electrónico válidas. Cada par debe imprimirse en una nueva línea en el siguiente formato:\n",
    "\n",
    "nombre <usuario@email.com>\n",
    "\n",
    "Debe imprimir cada dirección de correo electrónico válida en el mismo orden en que se recibió como entrada.\n",
    "\n",
    "### Entrada de muestra\n",
    "\n",
    "```\n",
    "2\n",
    "DEXTER <dexter@hotmail.com>\n",
    "VIRUS <virus!@variable.:p>\n",
    "```\n",
    "\n",
    "Salida de muestra\n",
    "```\n",
    "DEXTER <dexter@hotmail.com>\n",
    "```\n",
    "### Explicación\n",
    "\n",
    "dexter@hotmail.com es una dirección de correo electrónico válida, por lo que imprimimos el par de nombre y dirección de correo electrónico recibidos como entrada en una nueva línea.\n",
    "virus!@variable.:p no es una dirección de correo electrónico válida porque el nombre de usuario contiene un signo de exclamación (!) y la extensión contiene dos puntos (:). Como este correo electrónico no es válido, no imprimimos nada."
   ]
  },
  {
   "cell_type": "code",
   "execution_count": 2,
   "id": "d0c2eb10",
   "metadata": {},
   "outputs": [],
   "source": [
    "import re"
   ]
  },
  {
   "cell_type": "code",
   "execution_count": 3,
   "id": "116109eb",
   "metadata": {},
   "outputs": [],
   "source": [
    "def read_file(path:str) -> list:\n",
    "    \"\"\"\n",
    "    Lectura de un archivo plano\n",
    "    \"\"\"\n",
    "    f = open(path, mode=\"r\")\n",
    "    data = f.readlines()\n",
    "    f.close()\n",
    "    \n",
    "    return data\n",
    "\n",
    "\n",
    "def run(email:str) -> bool:\n",
    "    \"\"\"\n",
    "        Función main\n",
    "    \"\"\"\n",
    "    regex = r\"[a-z-A-Z]+\\s*<[a-zA-Z][a-zA-Z0-9._-]*@[a-zA-Z]+\\.[a-zA-Z]{3}>\"\n",
    "    return True if re.match(regex, email) else False"
   ]
  },
  {
   "cell_type": "code",
   "execution_count": 8,
   "id": "dcb5b07d",
   "metadata": {},
   "outputs": [],
   "source": [
    "if __name__ == \"__main__\":\n",
    "    path = \"dataset/emails\"\n",
    "    io_data = [email.strip() for email in read_file(path)]\n",
    "    \n",
    "    valid_emails = list(filter(run, io_data))"
   ]
  }
 ],
 "metadata": {
  "kernelspec": {
   "display_name": "Python 3 (ipykernel)",
   "language": "python",
   "name": "python3"
  },
  "language_info": {
   "codemirror_mode": {
    "name": "ipython",
    "version": 3
   },
   "file_extension": ".py",
   "mimetype": "text/x-python",
   "name": "python",
   "nbconvert_exporter": "python",
   "pygments_lexer": "ipython3",
   "version": "3.10.6"
  }
 },
 "nbformat": 4,
 "nbformat_minor": 5
}
