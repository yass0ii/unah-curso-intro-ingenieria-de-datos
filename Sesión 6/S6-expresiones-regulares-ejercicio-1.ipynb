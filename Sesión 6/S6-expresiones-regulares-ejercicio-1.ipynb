{
 "cells": [
  {
   "cell_type": "markdown",
   "id": "f2fe9863",
   "metadata": {},
   "source": [
    "# S6: Ejercicio práctico"
   ]
  },
  {
   "cell_type": "markdown",
   "id": "3f3251cf",
   "metadata": {},
   "source": [
    "---"
   ]
  },
  {
   "cell_type": "markdown",
   "id": "14ae9f71",
   "metadata": {},
   "source": [
    "Fredrick y tú sois buenos amigos. Ayer, Fredrick recibió tarjetas de crédito de ABCD Bank. Quiere verificar si los números de su tarjeta de crédito son válidos o no. Eres genial en expresiones regulares, ¡así que te está pidiendo ayuda!\n",
    "\n",
    "Una tarjeta de crédito válida del Banco ABCD tiene las siguientes características:\n",
    "\n",
    "- Debe comenzar con un `4,5 o 6`.\n",
    "- Debe contener exactamente 16 dígitos.\n",
    "- Solo debe constar de dígitos `(0-9)`.\n",
    "- Puede tener dígitos en grupos de `4`, separados por un guión `\"-\"`.\n",
    "- NO debe usar ningún otro separador como `' ' , '_'`, etc.\n",
    "- NO debe tener `4` o más dígitos consecutivos repetidos.\n",
    "\n",
    "\n",
    "### Ejemplos:\n",
    "\n",
    "**Números de tarjetas de crédito válidos**:\n",
    "```\n",
    "4253625879615786\n",
    "4424424424442444\n",
    "5122-2368-7954-3214\n",
    "```\n",
    "\n",
    "**Números de tarjetas de crédito no válidos**:\n",
    "```\n",
    "42536258796157867 #17 dígitos en número de tarjeta → Inválido\n",
    "4424444424442444 #Los dígitos consecutivos se repiten 4 o más veces → Inválido\n",
    "5122-2368-7954 - 3214 #Se utilizan separadores distintos de '-' → Inválido\n",
    "44244x4424442444 #Contiene caracteres que no son dígitos → Inválido\n",
    "0525362587961578 #No empieza con 4, 5 o 6 → Inválido\n",
    "```\n",
    "\n",
    "### Formato de entrada\n",
    "\n",
    "- La primera línea de entrada contiene un número entero N.\n",
    "- Las siguientes N líneas contienen números de tarjetas de crédito.\n",
    "\n",
    "### Restricciones\n",
    "\n",
    "```\n",
    "0 < N < 100\n",
    "```\n",
    "\n",
    "### Formato de salida\n",
    "\n",
    "Imprima `Válido` si el número de tarjeta de crédito es válido. De lo contrario, imprima `Inválido`. No imprima las comillas.\n",
    "\n",
    "### Entrada de muestra\n",
    "```\n",
    "6\n",
    "4123456789123456\n",
    "5123-4567-8912-3456\n",
    "61234-567-8912-3456\n",
    "4123356789123456\n",
    "5133-3367-8912-3456\n",
    "5123 - 3567 - 8912 - 3456\n",
    "```\n",
    "\n",
    "### Salida de muestra\n",
    "``` \n",
    "Válido\n",
    "Válido\n",
    "Inválido\n",
    "Válido\n",
    "Inválido\n",
    "Inválido\n",
    "```\n",
    "\n",
    "### Explicación\n",
    "```\n",
    "4123456789123456 : Válido\n",
    "5123-4567-8912-3456 : Válido\n",
    "61234-567-8912-3456 : Inválido, porque el número de tarjeta no está dividido en grupos iguales de 4.\n",
    "4123356789123456 : Válido\n",
    "5133-3367-8912-3456: Inválido, dígitos consecutivos no válidos 3333 se repite 4 veces.\n",
    "5123 — 4567 — 8912 — 3456 : Inválido, porque el espacio ' ' y - se utilizan como separadores.\n",
    "```"
   ]
  },
  {
   "cell_type": "code",
   "execution_count": 5,
   "id": "564d6023",
   "metadata": {},
   "outputs": [],
   "source": [
    "import re"
   ]
  },
  {
   "cell_type": "code",
   "execution_count": 85,
   "id": "0b26bd3b",
   "metadata": {},
   "outputs": [],
   "source": [
    "def run(credit_card: list) -> bool:\n",
    "    \"\"\"\n",
    "        Función main\n",
    "    \"\"\"\n",
    "    regex = r\"[456]{1}[0-9]{3}(-?)[0-9]{4}(-?)[0-9]{4}(-?)[0-9]{4}\"\n",
    "    \n",
    "#     print(regex)\n",
    "    \n",
    "    for lines in credit_card:\n",
    "        return \"Valido\" if re.match(regex, credit_card) else \"Invalido\""
   ]
  },
  {
   "cell_type": "code",
   "execution_count": 86,
   "id": "345cb6e6",
   "metadata": {},
   "outputs": [
    {
     "name": "stdout",
     "output_type": "stream",
     "text": [
      "Invalido\n",
      "Valido\n",
      "Valido\n",
      "Invalido\n",
      "Valido\n",
      "Valido\n",
      "Invalido\n"
     ]
    }
   ],
   "source": [
    "if __name__ == \"__main__\":\n",
    "    \n",
    "    \n",
    "    data = [\"5\", \"4123456789123456\", \"5123-4567-8912-3456\", \"61234-567-8912-3456\", \"4123356789123456\", \"5133-3367-8912-3456\", \"5123 - 3567 - 8912 - 3456\"]\n",
    "#     print(data)\n",
    "    \n",
    "    for values in range(0, int(len(data))):\n",
    "        n = int(values)\n",
    "#         print(n)\n",
    "        print(run(data[n]))"
   ]
  },
  {
   "cell_type": "code",
   "execution_count": 64,
   "id": "8c0b1a7d",
   "metadata": {},
   "outputs": [
    {
     "data": {
      "text/plain": [
       "'5123-4567-8912-3456'"
      ]
     },
     "execution_count": 64,
     "metadata": {},
     "output_type": "execute_result"
    }
   ],
   "source": [
    "data[2]"
   ]
  }
 ],
 "metadata": {
  "kernelspec": {
   "display_name": "Python 3 (ipykernel)",
   "language": "python",
   "name": "python3"
  },
  "language_info": {
   "codemirror_mode": {
    "name": "ipython",
    "version": 3
   },
   "file_extension": ".py",
   "mimetype": "text/x-python",
   "name": "python",
   "nbconvert_exporter": "python",
   "pygments_lexer": "ipython3",
   "version": "3.10.6"
  }
 },
 "nbformat": 4,
 "nbformat_minor": 5
}
